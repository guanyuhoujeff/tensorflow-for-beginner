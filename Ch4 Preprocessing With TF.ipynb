{
 "cells": [
  {
   "cell_type": "markdown",
   "metadata": {
    "collapsed": false
   },
   "source": [
    "# Preprocessing With TF"
   ]
  },
  {
   "cell_type": "markdown",
   "metadata": {
    "collapsed": false
   },
   "source": [
    "<b>Topics:</b>\n",
    "<ol>\n",
    "    <li>Reading in datasets</li>\n",
    "    <li>Iterators (iterate over datasets using TF)</li><ul>\n",
    "        <li>one-shot</li>\n",
    "        <li>initializable</li>\n",
    "        <li>reinitializable</li>\n",
    "        <li>feedable</li></ul>\n",
    "    <li>Preprocessing functions</li><ul>\n",
    "        <li>load and apply transforms</li></ul>\n",
    "    <li>Batching data</li>\n",
    "</ol>\n"
   ]
  },
  {
   "cell_type": "markdown",
   "metadata": {
    "collapsed": false
   },
   "source": [
    "# 1 Reading in datasets"
   ]
  },
  {
   "cell_type": "code",
   "execution_count": 1,
   "metadata": {
    "collapsed": false
   },
   "outputs": [
    {
     "name": "stderr",
     "output_type": "stream",
     "text": [
      "/usr/local/lib/python3.5/dist-packages/h5py/__init__.py:36: FutureWarning: Conversion of the second argument of issubdtype from `float` to `np.floating` is deprecated. In future, it will be treated as `np.float64 == np.dtype(float).type`.\n",
      "  from ._conv import register_converters as _register_converters\n"
     ]
    }
   ],
   "source": [
    "import numpy as np\n",
    "import tensorflow as tf\n",
    "import os"
   ]
  },
  {
   "cell_type": "code",
   "execution_count": 2,
   "metadata": {
    "collapsed": false
   },
   "outputs": [
   ],
   "source": [
    "## 從output_data_path讀取 .npy 檔\n",
    "output_data_path  = \"./output_data\"\n",
    "Xtr = np.load(os.path.join(output_data_path, \"Xtr.npy\"))\n",
    "Ytr = np.load(os.path.join(output_data_path, \"Ytr.npy\"))"
   ]
  },
  {
   "cell_type": "markdown",
   "metadata": {
    "collapsed": false
   },
   "source": [
    "<h3>參考資料：</h3>\n",
    "<p><a href=\"https://www.hksilicon.com/articles/1471783\" target=\"_blank\" rel=\"noopener\">TensorFlow全新的數據讀取方式：Dataset API入門教程</a></p>\n",
    "<p><a href=\"http://libowei.net/TensorFlow%E5%AD%A6%E4%B9%A0%E7%AC%94%E8%AE%B0%EF%BC%9AImporting-Data.html\" target=\"_blank\" rel=\"noopener\">TensorFlow学习笔记：Importing Data</a></p>\n",
    "<p><a href=\"https://www.jianshu.com/p/78467f297ab5\" target=\"_blank\" rel=\"noopener\">tensorflow读取数据-tfrecord格式</a></p>\n",
    "<p><a href=\"https://zhuanlan.zhihu.com/p/31992460\" target=\"_blank\" rel=\"noopener\">tensorflow TFRecords文件的生成和读取方法</a></p>"
   ]
  },
  {
   "cell_type": "code",
   "execution_count": 3,
   "metadata": {
    "collapsed": false
   },
   "outputs": [
    {
     "name": "stdout",
     "output_type": "stream",
     "text": [
      "(tf.float64, tf.float64)\n",
      "(TensorShape([Dimension(3)]), TensorShape([]))\n"
     ]
    }
   ],
   "source": [
    "## 元組型態\n",
    "training = tf.data.Dataset.from_tensor_slices((Xtr, Ytr))\n",
    "\n",
    "print(training.output_types)\n",
    "print(training.output_shapes)"
   ]
  },
  {
   "cell_type": "code",
   "execution_count": 4,
   "metadata": {
    "collapsed": false
   },
   "outputs": [
    {
     "name": "stdout",
     "output_type": "stream",
     "text": [
      "{'Xtr': tf.float64, 'Ytr': tf.float64}\n",
      "{'Xtr': TensorShape([Dimension(3)]), 'Ytr': TensorShape([])}\n"
     ]
    }
   ],
   "source": [
    "## 字典型態\n",
    "\n",
    "training2 = tf.data.Dataset.from_tensor_slices({\"Xtr\" : Xtr, \"Ytr\" : Ytr})\n",
    "\n",
    "print(training2.output_types)\n",
    "print(training2.output_shapes)"
   ]
  },
  {
   "cell_type": "markdown",
   "metadata": {
    "collapsed": false
   },
   "source": [
    "<h3>Other options</h3><ul>\n",
    "    <li>TFRecordDataset</li>\n",
    "    <li>TextLineDataset</li>\n",
    "</ul>"
   ]
  },
  {
   "cell_type": "markdown",
   "metadata": {
    "collapsed": false
   },
   "source": [
    "# Iterators"
   ]
  },
  {
   "cell_type": "code",
   "execution_count": 5,
   "metadata": {
    "collapsed": false
   },
   "outputs": [
    {
     "data": {
      "text/plain": [
       "131"
      ]
     },
     "execution_count": 5,
     "metadata": {
     },
     "output_type": "execute_result"
    }
   ],
   "source": [
    "len(Xtr)"
   ]
  },
  {
   "cell_type": "code",
   "execution_count": 6,
   "metadata": {
    "collapsed": false,
    "scrolled": true
   },
   "outputs": [
    {
     "name": "stdout",
     "output_type": "stream",
     "text": [
      "第 1 個元素； 23.0\n",
      "第 2 個元素； 25.0\n",
      "第 3 個元素； 33.0\n",
      "第 4 個元素； 36.0\n",
      "第 5 個元素； 31.0\n",
      "第 6 個元素； 35.0\n",
      "第 7 個元素； 24.0\n",
      "第 8 個元素； 31.0\n",
      "第 9 個元素； 30.0\n",
      "第 10 個元素； 29.0\n",
      "第 11 個元素； 34.0\n",
      "第 12 個元素； 30.0\n",
      "第 13 個元素； 28.0\n",
      "第 14 個元素； 35.0\n",
      "第 15 個元素； 32.0\n",
      "第 16 個元素； 35.0\n",
      "第 17 個元素； 25.0\n",
      "第 18 個元素； 31.0\n",
      "第 19 個元素； 35.0\n",
      "第 20 個元素； 30.0\n",
      "第 21 個元素； 29.0\n",
      "第 22 個元素； 33.0\n",
      "第 23 個元素； 29.0\n",
      "第 24 個元素； 34.0\n",
      "第 25 個元素； 31.0\n",
      "第 26 個元素； 28.0\n",
      "第 27 個元素； 33.0\n",
      "第 28 個元素； 33.0\n",
      "第 29 個元素； 23.0\n",
      "第 30 個元素； 31.0\n",
      "第 31 個元素； 29.0\n",
      "第 32 個元素； 32.0\n",
      "第 33 個元素； 28.0\n",
      "第 34 個元素； 30.0\n",
      "第 35 個元素； 32.0\n",
      "第 36 個元素； 38.0\n",
      "第 37 個元素； 41.0\n",
      "第 38 個元素； 32.0\n",
      "第 39 個元素； 30.0\n",
      "第 40 個元素； 35.0\n",
      "第 41 個元素； 34.0\n",
      "第 42 個元素； 31.0\n",
      "第 43 個元素； 33.0\n",
      "第 44 個元素； 28.0\n",
      "第 45 個元素； 39.0\n",
      "第 46 個元素； 33.0\n",
      "第 47 個元素； 30.0\n",
      "第 48 個元素； 39.0\n",
      "第 49 個元素； 31.0\n",
      "第 50 個元素； 31.0\n",
      "第 51 個元素； 29.0\n",
      "第 52 個元素； 24.0\n",
      "第 53 個元素； 26.0\n",
      "第 54 個元素； 36.0\n",
      "第 55 個元素； 31.0\n",
      "第 56 個元素； 34.0\n",
      "第 57 個元素； 30.0\n",
      "第 58 個元素； 36.0\n",
      "第 59 個元素； 42.0\n",
      "第 60 個元素； 40.0\n",
      "第 61 個元素； 34.0\n",
      "第 62 個元素； 32.0\n",
      "第 63 個元素； 30.0\n",
      "第 64 個元素； 26.0\n",
      "第 65 個元素； 28.0\n",
      "第 66 個元素； 38.0\n",
      "第 67 個元素； 26.0\n",
      "第 68 個元素； 31.0\n",
      "第 69 個元素； 34.0\n",
      "第 70 個元素； 35.0\n",
      "第 71 個元素； 30.0\n",
      "第 72 個元素； 35.0\n",
      "第 73 個元素； 27.0\n",
      "第 74 個元素； 39.0\n",
      "第 75 個元素； 37.0\n",
      "第 76 個元素； 28.0\n",
      "第 77 個元素； 31.0\n",
      "第 78 個元素； 32.0\n",
      "第 79 個元素； 32.0\n",
      "第 80 個元素； 34.0\n",
      "第 81 個元素； 23.0\n",
      "第 82 個元素； 32.0\n",
      "第 83 個元素； 36.0\n",
      "第 84 個元素； 32.0\n",
      "第 85 個元素； 33.0\n",
      "第 86 個元素； 23.0\n",
      "第 87 個元素； 26.0\n",
      "第 88 個元素； 31.0\n",
      "第 89 個元素； 28.0\n",
      "第 90 個元素； 22.0\n",
      "第 91 個元素； 34.0\n",
      "第 92 個元素； 37.0\n",
      "第 93 個元素； 29.0\n",
      "第 94 個元素； 30.0\n",
      "第 95 個元素； 29.0\n",
      "第 96 個元素； 31.0\n",
      "第 97 個元素； 29.0\n",
      "第 98 個元素； 37.0\n",
      "第 99 個元素； 33.0\n",
      "第 100 個元素； 31.0\n",
      "第 101 個元素； 32.0\n",
      "第 102 個元素； 37.0\n",
      "第 103 個元素； 37.0\n",
      "第 104 個元素； 40.0\n",
      "第 105 個元素； 31.0\n",
      "第 106 個元素； 29.0\n",
      "第 107 個元素； 27.0\n",
      "第 108 個元素； 33.0\n",
      "第 109 個元素； 37.0\n",
      "第 110 個元素； 29.0\n",
      "第 111 個元素； 29.0\n",
      "第 112 個元素； 34.0\n",
      "第 113 個元素； 27.0\n",
      "第 114 個元素； 31.0\n",
      "第 115 個元素； 35.0\n",
      "第 116 個元素； 35.0\n",
      "第 117 個元素； 30.0\n",
      "第 118 個元素； 28.0\n",
      "第 119 個元素； 34.0\n",
      "第 120 個元素； 42.0\n",
      "第 121 個元素； 36.0\n",
      "第 122 個元素； 28.0\n",
      "第 123 個元素； 33.0\n",
      "第 124 個元素； 26.0\n",
      "第 125 個元素； 33.0\n",
      "第 126 個元素； 30.0\n",
      "第 127 個元素； 31.0\n",
      "第 128 個元素； 30.0\n",
      "第 129 個元素； 32.0\n",
      "第 130 個元素； 30.0\n",
      "第 131 個元素； 31.0\n"
     ]
    }
   ],
   "source": [
    "iterator = training2.make_one_shot_iterator()  ## 把資料集當成一整個迭代器\n",
    "next_element = iterator.get_next()\n",
    "sess = tf.Session()\n",
    "\n",
    "for  i in range(131):\n",
    "    value = sess.run(next_element)    ##  每一次我們取 next_element 時，就會從迭代器(iterator)取資料\n",
    "    print(\"第 %d 個元素； \"%(i+1), end=\"\")\n",
    "    print(value[\"Ytr\"])"
   ]
  },
  {
   "cell_type": "markdown",
   "metadata": {
    "collapsed": false
   },
   "source": [
    "<h3>如果取太多"
   ]
  },
  {
   "cell_type": "code",
   "execution_count": 7,
   "metadata": {
    "collapsed": false,
    "scrolled": true
   },
   "outputs": [
    {
     "name": "stdout",
     "output_type": "stream",
     "text": [
      "第 1 個元素； 23.0\n",
      "第 2 個元素； 25.0\n",
      "第 3 個元素； 33.0\n",
      "第 4 個元素； 36.0\n",
      "第 5 個元素； 31.0\n",
      "第 6 個元素； 35.0\n",
      "第 7 個元素； 24.0\n",
      "第 8 個元素； 31.0\n",
      "第 9 個元素； 30.0\n",
      "第 10 個元素； 29.0\n",
      "第 11 個元素； 34.0\n",
      "第 12 個元素； 30.0\n",
      "第 13 個元素； 28.0\n",
      "第 14 個元素； 35.0\n",
      "第 15 個元素； 32.0\n",
      "第 16 個元素； 35.0\n",
      "第 17 個元素； 25.0\n",
      "第 18 個元素； 31.0\n",
      "第 19 個元素； 35.0\n",
      "第 20 個元素； 30.0\n",
      "第 21 個元素； 29.0\n",
      "第 22 個元素； 33.0\n",
      "第 23 個元素； 29.0\n",
      "第 24 個元素； 34.0\n",
      "第 25 個元素； 31.0\n",
      "第 26 個元素； 28.0\n",
      "第 27 個元素； 33.0\n",
      "第 28 個元素； 33.0\n",
      "第 29 個元素； 23.0\n",
      "第 30 個元素； 31.0\n",
      "第 31 個元素； 29.0\n",
      "第 32 個元素； 32.0\n",
      "第 33 個元素； 28.0\n",
      "第 34 個元素； 30.0\n",
      "第 35 個元素； 32.0\n",
      "第 36 個元素； 38.0\n",
      "第 37 個元素； 41.0\n",
      "第 38 個元素； 32.0\n",
      "第 39 個元素； 30.0\n",
      "第 40 個元素； 35.0\n",
      "第 41 個元素； 34.0\n",
      "第 42 個元素； 31.0\n",
      "第 43 個元素； 33.0\n",
      "第 44 個元素； 28.0\n",
      "第 45 個元素； 39.0\n",
      "第 46 個元素； 33.0\n",
      "第 47 個元素； 30.0\n",
      "第 48 個元素； 39.0\n",
      "第 49 個元素； 31.0\n",
      "第 50 個元素； 31.0\n",
      "第 51 個元素； 29.0\n",
      "第 52 個元素； 24.0\n",
      "第 53 個元素； 26.0\n",
      "第 54 個元素； 36.0\n",
      "第 55 個元素； 31.0\n",
      "第 56 個元素； 34.0\n",
      "第 57 個元素； 30.0\n",
      "第 58 個元素； 36.0\n",
      "第 59 個元素； 42.0\n",
      "第 60 個元素； 40.0\n",
      "第 61 個元素； 34.0\n",
      "第 62 個元素； 32.0\n",
      "第 63 個元素； 30.0\n",
      "第 64 個元素； 26.0\n",
      "第 65 個元素； 28.0\n",
      "第 66 個元素； 38.0\n",
      "第 67 個元素； 26.0\n",
      "第 68 個元素； 31.0\n",
      "第 69 個元素； 34.0\n",
      "第 70 個元素； 35.0\n",
      "第 71 個元素； 30.0\n",
      "第 72 個元素； 35.0\n",
      "第 73 個元素； 27.0\n",
      "第 74 個元素； 39.0\n",
      "第 75 個元素； 37.0\n",
      "第 76 個元素； 28.0\n",
      "第 77 個元素； 31.0\n",
      "第 78 個元素； 32.0\n",
      "第 79 個元素； 32.0\n",
      "第 80 個元素； 34.0\n",
      "第 81 個元素； 23.0\n",
      "第 82 個元素； 32.0\n",
      "第 83 個元素； 36.0\n",
      "第 84 個元素； 32.0\n",
      "第 85 個元素； 33.0\n",
      "第 86 個元素； 23.0\n",
      "第 87 個元素； 26.0\n",
      "第 88 個元素； 31.0\n",
      "第 89 個元素； 28.0\n",
      "第 90 個元素； 22.0\n",
      "第 91 個元素； 34.0\n",
      "第 92 個元素； 37.0\n",
      "第 93 個元素； 29.0\n",
      "第 94 個元素； 30.0\n",
      "第 95 個元素； 29.0\n",
      "第 96 個元素； 31.0\n",
      "第 97 個元素； 29.0\n",
      "第 98 個元素； 37.0\n",
      "第 99 個元素； 33.0\n",
      "第 100 個元素； 31.0\n",
      "第 101 個元素； 32.0\n",
      "第 102 個元素； 37.0\n",
      "第 103 個元素； 37.0\n",
      "第 104 個元素； 40.0\n",
      "第 105 個元素； 31.0\n",
      "第 106 個元素； 29.0\n",
      "第 107 個元素； 27.0\n",
      "第 108 個元素； 33.0\n",
      "第 109 個元素； 37.0\n",
      "第 110 個元素； 29.0\n",
      "第 111 個元素； 29.0\n",
      "第 112 個元素； 34.0\n",
      "第 113 個元素； 27.0\n",
      "第 114 個元素； 31.0\n",
      "第 115 個元素； 35.0\n",
      "第 116 個元素； 35.0\n",
      "第 117 個元素； 30.0\n",
      "第 118 個元素； 28.0\n",
      "第 119 個元素； 34.0\n",
      "第 120 個元素； 42.0\n",
      "第 121 個元素； 36.0\n",
      "第 122 個元素； 28.0\n",
      "第 123 個元素； 33.0\n",
      "第 124 個元素； 26.0\n",
      "第 125 個元素； 33.0\n",
      "第 126 個元素； 30.0\n",
      "第 127 個元素； 31.0\n",
      "第 128 個元素； 30.0\n",
      "第 129 個元素； 32.0\n",
      "第 130 個元素； 30.0\n",
      "第 131 個元素； 31.0\n"
     ]
    },
    {
     "name": "stderr",
     "output_type": "stream",
     "text": [
      "WARNING: Some output was deleted.\n"
     ]
    }
   ],
   "source": [
    "iterator = training2.make_one_shot_iterator()\n",
    "next_element = iterator.get_next()\n",
    "sess = tf.Session()\n",
    "\n",
    "for  i in range(132):\n",
    "    value = sess.run(next_element)\n",
    "    print(\"第 %d 個元素； \"%(i+1), end=\"\")\n",
    "    print(value[\"Ytr\"])\n",
    "    \n",
    "## => 會有 OutOfRangeError"
   ]
  },
  {
   "cell_type": "markdown",
   "metadata": {
    "collapsed": false
   },
   "source": [
    "<h3>解決方法\n"
   ]
  },
  {
   "cell_type": "code",
   "execution_count": 10,
   "metadata": {
    "collapsed": false,
    "scrolled": true
   },
   "outputs": [
    {
     "name": "stdout",
     "output_type": "stream",
     "text": [
      "第 1 個元素； 23.0\n",
      "第 2 個元素； 25.0\n",
      "第 3 個元素； 33.0\n",
      "第 4 個元素； 36.0\n",
      "第 5 個元素； 31.0\n",
      "第 6 個元素； 35.0\n",
      "第 7 個元素； 24.0\n",
      "第 8 個元素； 31.0\n",
      "第 9 個元素； 30.0\n",
      "第 10 個元素； 29.0\n",
      "第 11 個元素； 34.0\n",
      "第 12 個元素； 30.0\n",
      "第 13 個元素； 28.0\n",
      "第 14 個元素； 35.0\n",
      "第 15 個元素； 32.0\n",
      "第 16 個元素； 35.0\n",
      "第 17 個元素； 25.0\n",
      "第 18 個元素； 31.0\n",
      "第 19 個元素； 35.0\n",
      "第 20 個元素； 30.0\n",
      "第 21 個元素； 29.0\n",
      "第 22 個元素； 33.0\n",
      "第 23 個元素； 29.0\n",
      "第 24 個元素； 34.0\n",
      "第 25 個元素； 31.0\n",
      "第 26 個元素； 28.0\n",
      "第 27 個元素； 33.0\n",
      "第 28 個元素； 33.0\n",
      "第 29 個元素； 23.0\n",
      "第 30 個元素； 31.0\n",
      "第 31 個元素； 29.0\n",
      "第 32 個元素； 32.0\n",
      "第 33 個元素； 28.0\n",
      "第 34 個元素； 30.0\n",
      "第 35 個元素； 32.0\n",
      "第 36 個元素； 38.0\n",
      "第 37 個元素； 41.0\n",
      "第 38 個元素； 32.0\n",
      "第 39 個元素； 30.0\n",
      "第 40 個元素； 35.0\n",
      "第 41 個元素； 34.0\n",
      "第 42 個元素； 31.0\n",
      "第 43 個元素； 33.0\n",
      "第 44 個元素； 28.0\n",
      "第 45 個元素； 39.0\n",
      "第 46 個元素； 33.0\n",
      "第 47 個元素； 30.0\n",
      "第 48 個元素； 39.0\n",
      "第 49 個元素； 31.0\n",
      "第 50 個元素； 31.0\n",
      "第 51 個元素； 29.0\n",
      "第 52 個元素； 24.0\n",
      "第 53 個元素； 26.0\n",
      "第 54 個元素； 36.0\n",
      "第 55 個元素； 31.0\n",
      "第 56 個元素； 34.0\n",
      "第 57 個元素； 30.0\n",
      "第 58 個元素； 36.0\n",
      "第 59 個元素； 42.0\n",
      "第 60 個元素； 40.0\n",
      "第 61 個元素； 34.0\n",
      "第 62 個元素； 32.0\n",
      "第 63 個元素； 30.0\n",
      "第 64 個元素； 26.0\n",
      "第 65 個元素； 28.0\n",
      "第 66 個元素； 38.0\n",
      "第 67 個元素； 26.0\n",
      "第 68 個元素； 31.0\n",
      "第 69 個元素； 34.0\n",
      "第 70 個元素； 35.0\n",
      "第 71 個元素； 30.0\n",
      "第 72 個元素； 35.0\n",
      "第 73 個元素； 27.0\n",
      "第 74 個元素； 39.0\n",
      "第 75 個元素； 37.0\n",
      "第 76 個元素； 28.0\n",
      "第 77 個元素； 31.0\n",
      "第 78 個元素； 32.0\n",
      "第 79 個元素； 32.0\n",
      "第 80 個元素； 34.0\n",
      "第 81 個元素； 23.0\n",
      "第 82 個元素； 32.0\n",
      "第 83 個元素； 36.0\n",
      "第 84 個元素； 32.0\n",
      "第 85 個元素； 33.0\n",
      "第 86 個元素； 23.0\n",
      "第 87 個元素； 26.0\n",
      "第 88 個元素； 31.0\n",
      "第 89 個元素； 28.0\n",
      "第 90 個元素； 22.0\n",
      "第 91 個元素； 34.0\n",
      "第 92 個元素； 37.0\n",
      "第 93 個元素； 29.0\n",
      "第 94 個元素； 30.0\n",
      "第 95 個元素； 29.0\n",
      "第 96 個元素； 31.0\n",
      "第 97 個元素； 29.0\n",
      "第 98 個元素； 37.0\n",
      "第 99 個元素； 33.0\n",
      "第 100 個元素； 31.0\n",
      "第 101 個元素； 32.0\n",
      "第 102 個元素； 37.0\n",
      "第 103 個元素； 37.0\n",
      "第 104 個元素； 40.0\n",
      "第 105 個元素； 31.0\n",
      "第 106 個元素； 29.0\n",
      "第 107 個元素； 27.0\n",
      "第 108 個元素； 33.0\n",
      "第 109 個元素； 37.0\n",
      "第 110 個元素； 29.0\n",
      "第 111 個元素； 29.0\n",
      "第 112 個元素； 34.0\n",
      "第 113 個元素； 27.0\n",
      "第 114 個元素； 31.0\n",
      "第 115 個元素； 35.0\n",
      "第 116 個元素； 35.0\n",
      "第 117 個元素； 30.0\n",
      "第 118 個元素； 28.0\n",
      "第 119 個元素； 34.0\n",
      "第 120 個元素； 42.0\n",
      "第 121 個元素； 36.0\n",
      "第 122 個元素； 28.0\n",
      "第 123 個元素； 33.0\n",
      "第 124 個元素； 26.0\n",
      "第 125 個元素； 33.0\n",
      "第 126 個元素； 30.0\n",
      "第 127 個元素； 31.0\n",
      "第 128 個元素； 30.0\n",
      "第 129 個元素； 32.0\n",
      "第 130 個元素； 30.0\n",
      "第 131 個元素； 31.0\n",
      "第 132 個元素； No More Data!\n"
     ]
    }
   ],
   "source": [
    "iterator = training2.make_one_shot_iterator()\n",
    "next_element = iterator.get_next()\n",
    "sess = tf.Session()\n",
    "\n",
    "for  i in range(132):\n",
    "    print(\"第 %d 個元素； \"%(i+1), end=\"\")\n",
    "    try:\n",
    "        value = sess.run(next_element)\n",
    "        print(value[\"Ytr\"])\n",
    "    except tf.errors.OutOfRangeError as e :\n",
    "        print(\"No More Data!\")"
   ]
  },
  {
   "cell_type": "markdown",
   "metadata": {
    "collapsed": false
   },
   "source": [
    "<h1>Preprocessing</h1>\n",
    "<h3>Steps:</h3><ol>\n",
    "    <li>Define your transformations</li>\n",
    "    <li>Use Data.map(f) where f is a transformation</li>\n",
    "</ol>"
   ]
  },
  {
   "cell_type": "code",
   "execution_count": 11,
   "metadata": {
    "collapsed": false
   },
   "outputs": [
   ],
   "source": [
    "import pandas as pd"
   ]
  },
  {
   "cell_type": "markdown",
   "metadata": {
    "collapsed": false
   },
   "source": [
    "<b>Tensorflow ops"
   ]
  },
  {
   "cell_type": "code",
   "execution_count": 12,
   "metadata": {
    "collapsed": false
   },
   "outputs": [
   ],
   "source": [
    "## define a transformation\n",
    "## we will add noise to x\n",
    "\n",
    "def input_fn(csv_file, feature_names= [\"x1\", \"x2\", \"x3\"] , noise=True):\n",
    "    def decode_csv_add_noise(line, noise=noise):\n",
    "        parsed_line = tf.decode_csv(line,  [[0.], [0.], [0.], [0.]])\n",
    "        label = tf.stack(parsed_line[-1:])  # 最後一個元素是 label  # ADDED tf.stack \n",
    "        del parsed_line[-1]  ## 刪除最後一個元素\n",
    "        features = tf.stack(parsed_line)   # 剩下的元素都是特徵     # ADDED tf.stack\n",
    "\n",
    "\n",
    "        # 加入 noise\n",
    "        if noise:\n",
    "            features = tf.add(features, tf.random_normal(shape=  [len(parsed_line)] ,  ## 改\n",
    "                                                        mean = 0,\n",
    "                                                        stddev = 0.1))\n",
    "        # print(len(features))\n",
    "        # d = dict(zip(feature_names, features)), label\n",
    "        return features, label\n",
    "\n",
    "    dataset = (tf.data.TextLineDataset(csv_file)  # 讀取 text file\n",
    "                .skip(1)   # 跳過攔頭\n",
    "                .map(decode_csv_add_noise))  ## 使用我們自訂的 decode_csv_add_noise 來轉換每一格元素 \n",
    "\n",
    "    iterator = dataset.make_one_shot_iterator()\n",
    "    features, label = iterator.get_next()\n",
    "    return features, label"
   ]
  },
  {
   "cell_type": "code",
   "execution_count": 17,
   "metadata": {
    "collapsed": false
   },
   "outputs": [
    {
     "name": "stdout",
     "output_type": "stream",
     "text": [
      "[102.         3.134666  58.665855] [23.]\n"
     ]
    }
   ],
   "source": [
    "next_ = input_fn(os.path.join(output_data_path,\"data.csv\"), noise=False)\n",
    "\n",
    "with tf.Session() as s:\n",
    "    X, y = s.run(next_)\n",
    "    print(X, y)"
   ]
  },
  {
   "cell_type": "markdown",
   "metadata": {
    "collapsed": false
   },
   "source": [
    "# Batching Date"
   ]
  },
  {
   "cell_type": "markdown",
   "metadata": {
    "collapsed": false
   },
   "source": [
    "We can easily batch data using"
   ]
  },
  {
   "cell_type": "code",
   "execution_count": 18,
   "metadata": {
    "collapsed": false
   },
   "outputs": [
   ],
   "source": [
    "## define a transformation\n",
    "## we will add noise to x\n",
    "\n",
    "def input_fn(csv_file, feature_names= [\"x1\", \"x2\", \"x3\"] , batch_size=16, noise=True):\n",
    "    def decode_csv_add_noise(line, noise=noise):\n",
    "        parsed_line = tf.decode_csv(line,  [[0.], [0.], [0.], [0.]])\n",
    "        label = tf.stack(parsed_line[-1:])  # 最後一個元素是 label  # ADDED tf.stack \n",
    "        del parsed_line[-1]  ## 刪除最後一個元素\n",
    "        features = tf.stack(parsed_line)   # 剩下的元素都是特徵     # ADDED tf.stack\n",
    "\n",
    "        # 加入 noise\n",
    "        if noise:\n",
    "            features = tf.add(features, tf.random_normal(shape=  [len(parsed_line)] ,  ## 改\n",
    "                                                        mean = 0,\n",
    "                                                        stddev = 0.1))\n",
    "        # print(len(features))\n",
    "        # d = dict(zip(feature_names, features)), label\n",
    "        return features, label\n",
    "\n",
    "    dataset = (tf.data.TextLineDataset(csv_file)  # 讀取 text file\n",
    "                .skip(1)   # 跳過攔頭\n",
    "                .map(decode_csv_add_noise))  ## 使用我們自訂的 decode_csv_add_noise 來轉換每一格元素 \n",
    "\n",
    "    ##  差別 !!  多了 dataset.batch(batch_size)\n",
    "    dataset = dataset.batch(batch_size)\n",
    "\n",
    "    iterator = dataset.make_one_shot_iterator()\n",
    "    batch_features, batch_labels = iterator.get_next()\n",
    "    return batch_features, batch_labels"
   ]
  },
  {
   "cell_type": "code",
   "execution_count": 20,
   "metadata": {
    "collapsed": false
   },
   "outputs": [
    {
     "name": "stdout",
     "output_type": "stream",
     "text": [
      "[[102.          3.134666   58.665855 ]\n",
      " [105.         15.245371   78.98982  ]\n",
      " [ 83.          2.3910835  57.56431  ]\n",
      " [103.          9.606721   75.78387  ]\n",
      " [ 97.         11.134619   82.5471   ]\n",
      " [106.          8.270241   71.7693   ]\n",
      " [ 87.          7.2367363  69.221176 ]\n",
      " [132.         13.0684185  84.567604 ]\n",
      " [105.          3.2844145  68.50526  ]\n",
      " [ 94.         11.781596   67.92781  ]\n",
      " [108.          6.3509374  75.06494  ]\n",
      " [130.          8.885957   82.67174  ]\n",
      " [ 99.         10.429445   73.4739   ]\n",
      " [ 91.         12.433542   82.98668  ]\n",
      " [ 99.          8.214799   74.4258   ]\n",
      " [114.          5.810075   72.84722  ]]\n",
      "\n",
      "[[23.]\n",
      " [25.]\n",
      " [29.]\n",
      " [33.]\n",
      " [36.]\n",
      " [31.]\n",
      " [35.]\n",
      " [24.]\n",
      " [31.]\n",
      " [21.]\n",
      " [34.]\n",
      " [30.]\n",
      " [29.]\n",
      " [39.]\n",
      " [34.]\n",
      " [30.]]\n"
     ]
    }
   ],
   "source": [
    "next_ = input_fn(\"data.csv\", batch_size=10, noise=False)\n",
    "\n",
    "with tf.Session() as s:\n",
    "    batch = s.run(next_)\n",
    "    print(batch[0])  # print X from batch\n",
    "    print()\n",
    "    print(batch[1])  # print Y from batch"
   ]
  },
  {
   "cell_type": "code",
   "execution_count": 0,
   "metadata": {
    "collapsed": false
   },
   "outputs": [
   ],
   "source": [
   ]
  },
  {
   "cell_type": "code",
   "execution_count": 0,
   "metadata": {
    "collapsed": false
   },
   "outputs": [
   ],
   "source": [
   ]
  },
  {
   "cell_type": "code",
   "execution_count": 0,
   "metadata": {
    "collapsed": false
   },
   "outputs": [
   ],
   "source": [
   ]
  },
  {
   "cell_type": "code",
   "execution_count": 0,
   "metadata": {
    "collapsed": false
   },
   "outputs": [
   ],
   "source": [
   ]
  }
 ],
 "metadata": {
  "kernelspec": {
   "display_name": "Python 3 (Ubuntu Linux)",
   "language": "python",
   "name": "python3"
  },
  "language_info": {
   "codemirror_mode": {
    "name": "ipython",
    "version": 3
   },
   "file_extension": ".py",
   "mimetype": "text/x-python",
   "name": "python",
   "nbconvert_exporter": "python",
   "pygments_lexer": "ipython3",
   "version": "3.5.2"
  }
 },
 "nbformat": 4,
 "nbformat_minor": 0
}