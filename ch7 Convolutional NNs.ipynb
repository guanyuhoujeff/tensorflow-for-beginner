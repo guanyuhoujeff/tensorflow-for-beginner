{
 "cells": [
  {
   "cell_type": "markdown",
   "metadata": {
    "collapsed": false
   },
   "source": [
    "<h2> Tensorflow: Convolutional NN </h2>"
   ]
  },
  {
   "cell_type": "code",
   "execution_count": 0,
   "metadata": {
    "collapsed": false
   },
   "outputs": [
   ],
   "source": [
    "影片未完成"
   ]
  },
  {
   "cell_type": "markdown",
   "metadata": {
    "collapsed": false
   },
   "source": [
    "<br> Components Of the Model\n",
    "* Model Function(cnn_model_fn)\n",
    "    + 將 特徵、分類標籤、模式和模組當作參數\n",
    "    + 定義神經層\n",
    "    + 定義輸出預測的字典\n",
    "    + 創造 EstimatorSpec 給適當的模式\n",
    "        - train, predict, eval\n",
    "        - 產生一個 one hot 類別給 train and eval(評估)\n",
    "        - eval 需要使用到量測的dict\n",
    "* Main Function(main)\n",
    "    + 將 模式和模組當作參數\n",
    "    + 由我們的自訂函式取得資料\n",
    "        - load MNIST from TF in this case\n",
    "    + 由 cnn_model 和 模組參數 產生預估器\n",
    "    + 產生不同模式的輸入函示(例如:train)\n",
    "        - 從 TensorFlow 的 API numpy_input_fn 給 numpy 的資料\n",
    "    + 用適當的模式跑分類(預估)器"
   ]
  },
  {
   "cell_type": "code",
   "execution_count": 1,
   "metadata": {
    "collapsed": false
   },
   "outputs": [
   ],
   "source": [
    "import numpy\n",
    "import tensorflow as tf"
   ]
  },
  {
   "cell_type": "markdown",
   "metadata": {
    "collapsed": false
   },
   "source": [
    "<h3> 設立訓練的 log </h3>\n",
    "<p><a href=\"https://blog.csdn.net/vagrantabc2017/article/details/77507168\" target=\"_blank\" rel=\"noopener\">tensorflow訓練過程與日誌監控</a></p>"
   ]
  },
  {
   "cell_type": "code",
   "execution_count": 0,
   "metadata": {
    "collapsed": false
   },
   "outputs": [
   ],
   "source": [
    "tf.logging.set_verbosity(tf.logging.INFO)"
   ]
  },
  {
   "cell_type": "markdown",
   "metadata": {
    "collapsed": false
   },
   "source": [
    "<h3>模型function Model Function(cnn_model_fn)"
   ]
  },
  {
   "cell_type": "code",
   "execution_count": 0,
   "metadata": {
    "collapsed": false
   },
   "outputs": [
   ],
   "source": [
    "###### CNN 模組 ###\n",
    "def cnn_model_fn(features, labels, modem, params):\n",
    "    ## 輸入層\n",
    "    #  Reshape X to 4-D tensor : [batch_size, width, height, channels]\n",
    "    #  手寫資料都是 28 X 28 pixels 單色(one color channel)\n",
    "    input_layer = tf.reshape(feature[\"x\"], [-1, 28, 28, 1]) # [-1, 28, 28, 1] 第一個-1就會動態 reshape 成 batch_size\n",
    "    \n",
    "    ## 第一層卷積層 計算32個特徵使用 5 X 5 的濾網，使用Relu 激活函式\n",
    "    # 輸入 Tensor shape: [batch_size, 28, 28, 1]\n",
    "    # 輸出 Tensor shape: [batch_size, 28, 28, 32(filters的size)]\n",
    "    conv1 = tf.layers.conv2d(\n",
    "        inputs=input_layer,\n",
    "        filters=32,\n",
    "        kernal_size=[5, 5],\n",
    "        padding=\"same\",\n",
    "        activation=tf.nn.relu)\n",
    "    \n",
    "    ## 第一個 max pooling layer with a 2 X 2 filter and stride of 2\n",
    "    # 輸入 Tensor shape: [batch_size, 28, 28, 32]\n",
    "    # 輸出 Tensor shape: [batch_size, 14, 14, 32]\n",
    "    pool1 = tf.layers.max_pooling2d(inputs=conv1, pool_size=[2, 2], strides=2)\n",
    "    \n",
    "    ## 第二層卷積層 計算64個特徵使用 5 X 5 的濾網\n",
    "    # 輸入 Tensor shape: [batch_size, 14, 14, 32]\n",
    "    # 輸出 Tensor shape: [batch_size, 14, 14, 64]\n",
    "    \n",
    "    conv2 = tf.layers.conv2d(\n",
    "        inputs=pool1,\n",
    "        filters=64,\n",
    "        kernal_size=[5, 5],\n",
    "        padding=\"same\",\n",
    "        activation=tf.nn.relu)\n",
    "    \n",
    "    ## 第二個 max pooling layer \n",
    "    # 輸入 Tensor shape: [batch_size, 14, 14, 64]\n",
    "    # 輸出 Tensor shape: [batch_size, 7, 7, 64]\n",
    "    pool2 = tf.layers.max_pooling2d(inputs=conv2, pool_size=[2, 2], strides=2)\n",
    "    \n",
    "    ## 平坦層 \n",
    "    # 把最後 max pooling layer 壓平，準備輸入神經層網路\n",
    "    pool2_flat =  tf.reshape(pool2, [-1, 7 * 7 * 64])\n",
    "    \n",
    "    # 輸入 Tensor shape: [batch_size, 7 * 7 * 64]\n",
    "    # 輸出 Tensor shape: [batch_size, 1024]    \n",
    "    dense = tf.layers.dense(inpoputs=pool2_flat, units=1024, activation=tf.nn.relu)\n",
    "    \n",
    "    ## Add dropout operation;60% 比例的神經元會留下來\n",
    "    dropout = tf.layers.dropout(inputs=dense, rate=0.4, training= mode == tf.estimator.ModeKeys.TRAIN)\n",
    "    \n",
    "    ## Logits layer\n",
    "    # 輸入 Tensor shape: [batch_size, 1024]\n",
    "    # 輸出 Tensor shape: [batch_size, 10]\n",
    "    logits = tf.layers.dense(inpoputs=dropout, units=10)\n",
    "    \n",
    "    ## 這個dict是預測的結果，會回傳出去\n",
    "    predictions = {\n",
    "        # 預測的種類\n",
    "        \"classes\": tf.argmax(input=logits, axis=1).\n",
    "        # 用softmax 取得分類機率\n",
    "        \"probabilities\": tf.nn.softmax(logits, name=\"softmax_tensor\")\n",
    "    }\n",
    "    \n",
    "    if mode == tf.estimator.ModeKeys.PREDICT:\n",
    "        return tf.estimator.EstimatorSpec(mode=mode, predictions=predictions)\n",
    "    \n",
    "    ## 計算 Loss (for both Train and EVAL modes)\n",
    "    onehot_lables = tf.one_hot(indices=tf.cast(labels, tf.int32), depth=10)\n",
    "    loss = tf.losses.softmax_cross_entropy(onehot_lables, logits=logits)\n",
    "    \n",
    "    ## 建構訓練優化器(for TRAIN 模式)\n",
    "    if mode == tf.estimator.ModeKeys.TRAIN:\n",
    "        optimizer = tf.train.GradientDescentOptimizer(learning_rate=0.001)\n",
    "        train_op = optimizer.minimize(loss=loss, global_step=tf.train.get_global_step())\n",
    "        return tf.estimator.EstimatorSpec(mode=mode, loss=loss, train_op=train_op)\n",
    "   \n",
    "    ## 評估指標 (for EVAL 模式)\n",
    "    eval_metric_ops = {\"accuracy\":tf.metrics.accuracy(labels=labels, pedictions=predictions[\"classes\"])}\n",
    "    return tf.estimator.EstimatorSpec(mode=mode, loss=loss, eval_metric_ops=eval_metric_ops)"
   ]
  },
  {
   "cell_type": "markdown",
   "metadata": {
    "collapsed": false
   },
   "source": [
    "<h3> Main Function"
   ]
  },
  {
   "cell_type": "code",
   "execution_count": 0,
   "metadata": {
    "collapsed": false
   },
   "outputs": [
   ],
   "source": [
    "def main(mode=\"train\", model_params={\"learning_rate\":0.001}):\n",
    "    ## 載入訓練資料以及評估資料\n",
    "    mnist = tf.contrib.learn.datasets.load_dataset(\"mnist\")\n",
    "    \n",
    "    # Train\n",
    "    train_data = mnist.train.images  ## Return np.array\n",
    "    train_labels = np.asarray(mnist.train.labels, dtype=np.int32)\n",
    "    \n",
    "    # Test\n",
    "    eval_data  = mnist.test.images\n",
    "    eval_labels = np.asarray(mnist.test.labels, dtype=np.int32)\n",
    "    \n",
    "    # 創造評估器\n",
    "    mnist_classifier = tf.estimator.Estimator()"
   ]
  },
  {
   "cell_type": "code",
   "execution_count": 0,
   "metadata": {
    "collapsed": false
   },
   "outputs": [
   ],
   "source": [
   ]
  },
  {
   "cell_type": "code",
   "execution_count": 0,
   "metadata": {
    "collapsed": false
   },
   "outputs": [
   ],
   "source": [
   ]
  },
  {
   "cell_type": "code",
   "execution_count": 0,
   "metadata": {
    "collapsed": false
   },
   "outputs": [
   ],
   "source": [
   ]
  },
  {
   "cell_type": "code",
   "execution_count": 0,
   "metadata": {
    "collapsed": false
   },
   "outputs": [
   ],
   "source": [
   ]
  },
  {
   "cell_type": "code",
   "execution_count": 0,
   "metadata": {
    "collapsed": false
   },
   "outputs": [
   ],
   "source": [
   ]
  },
  {
   "cell_type": "code",
   "execution_count": 0,
   "metadata": {
    "collapsed": false
   },
   "outputs": [
   ],
   "source": [
   ]
  },
  {
   "cell_type": "code",
   "execution_count": 0,
   "metadata": {
    "collapsed": false
   },
   "outputs": [
   ],
   "source": [
   ]
  }
 ],
 "metadata": {
  "kernelspec": {
   "display_name": "Python 3 (Anaconda)",
   "language": "python",
   "name": "anaconda3"
  },
  "language_info": {
   "codemirror_mode": {
    "name": "ipython",
    "version": 3
   },
   "file_extension": ".py",
   "mimetype": "text/x-python",
   "name": "python",
   "nbconvert_exporter": "python",
   "pygments_lexer": "ipython3",
   "version": "3.5.5"
  }
 },
 "nbformat": 4,
 "nbformat_minor": 0
}