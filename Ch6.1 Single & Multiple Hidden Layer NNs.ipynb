{
 "cells": [
  {
   "cell_type": "markdown",
   "metadata": {
    "collapsed": false
   },
   "source": [
    "<h1>Tensorflow: Single&Multiple Hidden Layer NNs"
   ]
  },
  {
   "cell_type": "code",
   "execution_count": 3,
   "metadata": {
    "collapsed": false
   },
   "outputs": [
   ],
   "source": [
    "import tensorflow as tf\n",
    "import numpy as np"
   ]
  },
  {
   "cell_type": "markdown",
   "metadata": {
    "collapsed": false
   },
   "source": [
    "<h3>產生資料集</h3>"
   ]
  },
  {
   "cell_type": "code",
   "execution_count": 4,
   "metadata": {
    "collapsed": false
   },
   "outputs": [
   ],
   "source": [
    "np.random.seed(123)\n",
    "\n",
    "Xtr = np.random.normal(0, 5, (2500, 3))\n",
    "Xts = np.random.normal(0, 5, (2500, 3))\n",
    "\n",
    "def f(x):\n",
    "    y = (x[:,1] + 2*x[:,2] - x[:,0]  ## linear without interactions\n",
    "         #+ x[:,0]*x[:,1] + x[:,0]*x[:,1]*x[:,2] ## linear with interactions\n",
    "         #+ x[:,1]*(x[:,2]**2)  ## 非線性 有截距\n",
    "        )\n",
    "    return y.reshape(-1,1)"
   ]
  },
  {
   "cell_type": "code",
   "execution_count": 5,
   "metadata": {
    "collapsed": false
   },
   "outputs": [
   ],
   "source": [
    "Ytr = f(Xtr)\n",
    "Yts = f(Xts)"
   ]
  },
  {
   "cell_type": "markdown",
   "metadata": {
    "collapsed": false
   },
   "source": [
    "<h3>產生模型</h3>"
   ]
  },
  {
   "cell_type": "markdown",
   "metadata": {
    "collapsed": false
   },
   "source": [
    "超參數調整"
   ]
  },
  {
   "cell_type": "code",
   "execution_count": 6,
   "metadata": {
    "collapsed": false
   },
   "outputs": [
   ],
   "source": [
    "## hyper paarameters\n",
    "learning_rate = 0.01\n",
    "n_nodes_1 = 2   ## 單一隱藏層的神經元數"
   ]
  },
  {
   "cell_type": "markdown",
   "metadata": {
    "collapsed": false
   },
   "source": [
    "架構 tensorflow"
   ]
  },
  {
   "cell_type": "code",
   "execution_count": 7,
   "metadata": {
    "collapsed": false
   },
   "outputs": [
   ],
   "source": [
    "def create_weights(shape):\n",
    "    ## 產生某一層神經層的權重\n",
    "    ## 使用隨機常態分配初始權重，因為我們不想剛開始權重就過大或過小，故標準差(stddev)設為0.1， N(0, 0.1)\n",
    "    inintializer = tf.random_normal(shape, stddev=0.1)\n",
    "    w = tf.Variable(inintializer)\n",
    "    return w\n",
    "\n",
    "def create_biases(shape):\n",
    "    ## 產生偏移\n",
    "    ## 應該為 rank1 且 shape 要跟 n_nodes 一樣\n",
    "    inintializer = tf.random_normal(shape)\n",
    "    b = tf.Variable(inintializer)\n",
    "    return b"
   ]
  },
  {
   "cell_type": "code",
   "execution_count": 13,
   "metadata": {
    "collapsed": false
   },
   "outputs": [
   ],
   "source": [
    "n_input = Xtr.shape[1]\n",
    "n_output = Ytr.shape[1]\n",
    "\n",
    "# the 'None' allows us to pass different batch sizes\n",
    "X = tf.placeholder(tf.float32, [None, n_input])\n",
    "Y = tf.placeholder(tf.float32, [None, n_output])\n",
    "\n",
    "\n",
    "## 輸入層\n",
    "## 使用 dict 來整理權重\n",
    "weights = {\"w1\": create_weights([n_input, n_nodes_1]),     ## 輸入到隱藏層的神經權重\n",
    "           \"w_out\": create_weights([n_nodes_1, n_output])} ## 輸出層的神經權重\n",
    "\n",
    "## 使用 dict 來整理偏移\n",
    "biases = {\"b1\": create_biases([n_nodes_1]),\n",
    "          \"b_out\": create_biases([n_output])}\n",
    "\n",
    "##  隱藏層\n",
    "z1 = tf.add(tf.matmul(X, weights[\"w1\"]), biases[\"b1\"])    ## 激活函數的 input\n",
    "a1 = tf.nn.sigmoid(z1)  # 激活函數\n",
    "\n",
    "## 輸出層\n",
    "logits = tf.add(tf.matmul(a1, weights[\"w_out\"]), biases[\"b_out\"])\n",
    "#yhat = tf.nn.softmax(logits)   ## 取得分類機率\n",
    "\n",
    "## 反向傳播Backpropagation\n",
    "# 定義 loss function : RMSE\n",
    "loss = tf.sqrt(tf.reduce_mean(tf.square(Y-logits)))\n",
    "\n",
    "# 定義優化器\n",
    "#optimize = tf.train.GradientDescentOptimizer(learning_rate).minimize(loss)\n",
    "optimize = tf.train.RMSPropOptimizer(learning_rate).minimize(loss)"
   ]
  },
  {
   "cell_type": "markdown",
   "metadata": {
    "collapsed": false
   },
   "source": [
    "<h3>準備進行 train"
   ]
  },
  {
   "cell_type": "code",
   "execution_count": 14,
   "metadata": {
    "collapsed": false
   },
   "outputs": [
    {
     "name": "stdout",
     "output_type": "stream",
     "text": [
      "Epoch 1, loss: 12.246\n"
     ]
    },
    {
     "name": "stdout",
     "output_type": "stream",
     "text": [
      "Epoch 10, loss: 10.569\n"
     ]
    },
    {
     "name": "stdout",
     "output_type": "stream",
     "text": [
      "Epoch 20, loss: 8.866\n"
     ]
    },
    {
     "name": "stdout",
     "output_type": "stream",
     "text": [
      "Epoch 30, loss: 7.378\n"
     ]
    },
    {
     "name": "stdout",
     "output_type": "stream",
     "text": [
      "Epoch 40, loss: 6.103\n"
     ]
    },
    {
     "name": "stdout",
     "output_type": "stream",
     "text": [
      "Epoch 50, loss: 5.038\n"
     ]
    },
    {
     "name": "stdout",
     "output_type": "stream",
     "text": [
      "Epoch 60, loss: 4.099\n"
     ]
    },
    {
     "name": "stdout",
     "output_type": "stream",
     "text": [
      "Epoch 70, loss: 3.161\n"
     ]
    },
    {
     "name": "stdout",
     "output_type": "stream",
     "text": [
      "Epoch 80, loss: 2.523\n"
     ]
    },
    {
     "name": "stdout",
     "output_type": "stream",
     "text": [
      "Epoch 90, loss: 2.026\n"
     ]
    },
    {
     "name": "stdout",
     "output_type": "stream",
     "text": [
      "Epoch 100, loss: 1.649\n"
     ]
    },
    {
     "name": "stdout",
     "output_type": "stream",
     "text": [
      "Epoch 110, loss: 1.366\n"
     ]
    },
    {
     "name": "stdout",
     "output_type": "stream",
     "text": [
      "Epoch 120, loss: 1.158\n"
     ]
    },
    {
     "name": "stdout",
     "output_type": "stream",
     "text": [
      "Epoch 130, loss: 1.011\n"
     ]
    },
    {
     "name": "stdout",
     "output_type": "stream",
     "text": [
      "Epoch 140, loss: 0.907\n"
     ]
    },
    {
     "name": "stdout",
     "output_type": "stream",
     "text": [
      "Epoch 150, loss: 0.831\n"
     ]
    },
    {
     "name": "stdout",
     "output_type": "stream",
     "text": [
      "Epoch 160, loss: 0.776\n"
     ]
    },
    {
     "name": "stdout",
     "output_type": "stream",
     "text": [
      "Epoch 170, loss: 0.728\n"
     ]
    },
    {
     "name": "stdout",
     "output_type": "stream",
     "text": [
      "Epoch 180, loss: 0.690\n"
     ]
    },
    {
     "name": "stdout",
     "output_type": "stream",
     "text": [
      "Epoch 190, loss: 0.658\n"
     ]
    },
    {
     "name": "stdout",
     "output_type": "stream",
     "text": [
      "Epoch 200, loss: 0.630\n"
     ]
    },
    {
     "name": "stdout",
     "output_type": "stream",
     "text": [
      "Epoch 210, loss: 0.632\n"
     ]
    },
    {
     "name": "stdout",
     "output_type": "stream",
     "text": [
      "Epoch 220, loss: 0.620\n"
     ]
    },
    {
     "name": "stdout",
     "output_type": "stream",
     "text": [
      "Epoch 230, loss: 0.611\n"
     ]
    },
    {
     "name": "stdout",
     "output_type": "stream",
     "text": [
      "Epoch 240, loss: 0.586\n"
     ]
    },
    {
     "name": "stdout",
     "output_type": "stream",
     "text": [
      "Epoch 250, loss: 0.593\n"
     ]
    },
    {
     "name": "stdout",
     "output_type": "stream",
     "text": [
      "Epoch 260, loss: 0.583\n"
     ]
    },
    {
     "name": "stdout",
     "output_type": "stream",
     "text": [
      "Epoch 270, loss: 0.564\n"
     ]
    },
    {
     "name": "stdout",
     "output_type": "stream",
     "text": [
      "Epoch 280, loss: 0.571\n"
     ]
    },
    {
     "name": "stdout",
     "output_type": "stream",
     "text": [
      "Epoch 290, loss: 0.605\n"
     ]
    },
    {
     "name": "stdout",
     "output_type": "stream",
     "text": [
      "Epoch 300, loss: 0.538\n"
     ]
    }
   ],
   "source": [
    "init = tf.global_variables_initializer()\n",
    "sess = tf.Session()\n",
    "sess.run(init)\n",
    "\n",
    "batch_size = 100\n",
    "n_epochs = 300\n",
    "for epoch in range(1, n_epochs +1 ):\n",
    "    # train on one batch at a time\n",
    "    for i in range(0, len(Xtr), batch_size):\n",
    "        sess.run(optimize, feed_dict={X: Xtr[i: i + batch_size],\n",
    "                                      Y: Ytr[i: i + batch_size]})\n",
    "    # 計算traing loss for printing progress\n",
    "    if (epoch%10 == 0)| (epoch == 1):\n",
    "        loss_tr = sess.run(loss, feed_dict={X: Xtr, Y: Ytr})\n",
    "        print(\"Epoch {}, loss: {:.3f}\".format(epoch, loss_tr, 3))"
   ]
  },
  {
   "cell_type": "markdown",
   "metadata": {
    "collapsed": false
   },
   "source": [
    "<h3>計算測試資料的 loss"
   ]
  },
  {
   "cell_type": "code",
   "execution_count": 17,
   "metadata": {
    "collapsed": false
   },
   "outputs": [
    {
     "name": "stdout",
     "output_type": "stream",
     "text": [
      "----------\n",
      "Test loss 0.655\n"
     ]
    }
   ],
   "source": [
    "loss_ts = sess.run(loss, feed_dict={X: Xts, Y: Yts})\n",
    "logits_value = sess.run(logits, feed_dict={X: Xts})\n",
    "print(10*\"-\")\n",
    "print(\"Test loss %.3f\"%np.round(loss_ts, 3))"
   ]
  },
  {
   "cell_type": "code",
   "execution_count": 19,
   "metadata": {
    "collapsed": false
   },
   "outputs": [
    {
     "data": {
      "text/plain": [
       "0.077678636"
      ]
     },
     "execution_count": 19,
     "metadata": {
     },
     "output_type": "execute_result"
    }
   ],
   "source": [
    "logits_value.mean()"
   ]
  },
  {
   "cell_type": "code",
   "execution_count": 20,
   "metadata": {
    "collapsed": false
   },
   "outputs": [
    {
     "data": {
      "text/plain": [
       "0.10248054128244864"
      ]
     },
     "execution_count": 20,
     "metadata": {
     },
     "output_type": "execute_result"
    }
   ],
   "source": [
    "Yts.mean()"
   ]
  },
  {
   "cell_type": "code",
   "execution_count": 0,
   "metadata": {
    "collapsed": false
   },
   "outputs": [
   ],
   "source": [
   ]
  },
  {
   "cell_type": "code",
   "execution_count": 0,
   "metadata": {
    "collapsed": false
   },
   "outputs": [
   ],
   "source": [
   ]
  }
 ],
 "metadata": {
  "kernelspec": {
   "display_name": "Python 3 (Anaconda)",
   "language": "python",
   "name": "anaconda3"
  },
  "language_info": {
   "codemirror_mode": {
    "name": "ipython",
    "version": 3
   },
   "file_extension": ".py",
   "mimetype": "text/x-python",
   "name": "python",
   "nbconvert_exporter": "python",
   "pygments_lexer": "ipython3",
   "version": "3.5.5"
  }
 },
 "nbformat": 4,
 "nbformat_minor": 0
}