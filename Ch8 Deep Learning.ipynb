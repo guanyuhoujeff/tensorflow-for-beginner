{
 "cells": [
  {
   "cell_type": "markdown",
   "metadata": {},
   "source": [
    "<h3>TensorFlow Deep Learning"
   ]
  },
  {
   "cell_type": "code",
   "execution_count": 1,
   "metadata": {},
   "outputs": [
    {
     "name": "stderr",
     "output_type": "stream",
     "text": [
      "C:\\ProgramData\\Anaconda3\\lib\\site-packages\\h5py\\__init__.py:36: FutureWarning: Conversion of the second argument of issubdtype from `float` to `np.floating` is deprecated. In future, it will be treated as `np.float64 == np.dtype(float).type`.\n",
      "  from ._conv import register_converters as _register_converters\n"
     ]
    }
   ],
   "source": [
    "import tensorflow as tf\n",
    "import numpy as np"
   ]
  },
  {
   "cell_type": "markdown",
   "metadata": {},
   "source": [
    "<h3>Create Model"
   ]
  },
  {
   "cell_type": "code",
   "execution_count": 2,
   "metadata": {},
   "outputs": [],
   "source": [
    "from collections import OrderedDict"
   ]
  },
  {
   "cell_type": "markdown",
   "metadata": {},
   "source": [
    "參考資料：<a href=\"http://www.zlovezl.cn/articles/collections-in-python/\" target=\"_blank\">不可不知的Python模块: collections</a>"
   ]
  },
  {
   "cell_type": "code",
   "execution_count": 28,
   "metadata": {},
   "outputs": [],
   "source": [
    "def create_dense_layer(inputs, n_nodes, activation=None, dropout=None):\n",
    "    return tf.layers.dense(inputs=inputs, units=n_nodes, activation=activation)\n",
    "\n",
    "def create_dropout(inputs, rate, mode):\n",
    "    return tf.layers.dropout(inputs=inputs, rate=rate, training=mode == tf.estimator.ModeKeys.TRAIN)\n",
    "\n",
    "## tf.logging.set_verbosity(tf.logging.INFO)\n",
    "\n",
    "def deep_model_fn(features, labels, mode, params):\n",
    "    ### 深度學習模型的函數\n",
    "    \n",
    "    layers_dict = OrderedDict()\n",
    "    ## 輸入層\n",
    "    layers_dict[\"input_layer\"] = features[\"x\"]\n",
    "    \n",
    "    ## 依照layer的參數 創造 layers\n",
    "    for i, layer in enumerate(params[\"layers\"]):\n",
    "        layer[\"inputs\"] = list(layers_dict.values())[-1]\n",
    "        if layer == params[\"layers\"][-1]:  ## 判斷假如已經到了最後一層layer，那麼就是輸出層\n",
    "            key = \"logits\"\n",
    "        else:\n",
    "            key = \"layer\" + str(i)\n",
    "        layers_dict[key] = create_dense_layer(**layer)\n",
    "        if layer[\"dropout\"]:\n",
    "            layers_dict[\"dropout_l\"+str(i)] = create_dropout(list(layers_dict.values())[-1], rate=layer[\"dropout\"], mode=mode)\n",
    "      \n",
    "    print(list(layers_dict.keys()))\n",
    "    \n",
    "    predictions = {\n",
    "        ## 產生預測結果(for PREDICT and EVAL 模式)\n",
    "        \"classes\": tf.argmax(input=layers_dict[\"logits\"], axis=1),\n",
    "        # 在圖中加入\"softmax_tensor\"，用來給預測模式以及logging hook\n",
    "        \"probabilities\": tf.nn.softmax(layers_dict[\"logits\"], name=\"softmax_tensor\")\n",
    "    }\n",
    "    \n",
    "    if mode == tf.estimator.ModeKeys.PREDICT:\n",
    "        return tf.estimator.EstimatorSpec(mode=mode, predictions=predictions)\n",
    "    \n",
    "    ## 計算 LOSS (for both TRAIN and EVAL 模式)\n",
    "    onehot_labels = tf.one_hot(indices=tf.cast(labels, tf.int32), depth=10)\n",
    "    loss = tf.losses.softmax_cross_entropy(onehot_labels=onehot_labels, logits=layers_dict[\"logits\"])\n",
    "    \n",
    "    ## 架構訓練優化器(for TRAIN 模式)\n",
    "    if mode == tf.estimator.ModeKeys.TRAIN:\n",
    "        optimizer = tf.train.GradientDescentOptimizer(learning_rate=params[\"learning_rate\"])\n",
    "        train_op = optimizer.minimize(loss=loss, global_step=tf.train.get_global_step())\n",
    "        return tf.estimator.EstimatorSpec(mode=mode, loss=loss, train_op=train_op)\n",
    "   \n",
    "    ## 評估模式的評估指標(for EVAL 模式)\n",
    "    eval_metric_ops = {\n",
    "        \"accuracy\": tf.metrics.accuracy(labels=labels, predictions=predictions[\"classes\"])}\n",
    "    return tf.estimator.EstimatorSpec(mode=mode, loss=loss, eval_metric_ops=eval_metric_ops)"
   ]
  },
  {
   "cell_type": "markdown",
   "metadata": {},
   "source": [
    "<h3>Main Function"
   ]
  },
  {
   "cell_type": "code",
   "execution_count": 29,
   "metadata": {},
   "outputs": [],
   "source": [
    "def main(model_params=None, mode=\"train\", model_dir=None):\n",
    "    ## 載入訓練資料以及評估資料\n",
    "    mnist = tf.contrib.learn.datasets.load_dataset(\"mnist\")\n",
    "    \n",
    "    # Train\n",
    "    train_data = mnist.train.images  ## Return np.array\n",
    "    train_labels = np.asarray(mnist.train.labels, dtype=np.int32)\n",
    "    \n",
    "    # Test\n",
    "    eval_data  = mnist.test.images\n",
    "    eval_labels = np.asarray(mnist.test.labels, dtype=np.int32)\n",
    "    \n",
    "    ## 創造評估器\n",
    "    if not model_dir:\n",
    "        import os\n",
    "        model_dir = \"/tmp/mnist_deep_model\"\n",
    "        if not(os.path.isdir(model_dir)):\n",
    "            os.makedirs(model_dir)\n",
    "        if mode == \"train\":\n",
    "            os.system(\"rm -rf \" + model_dir)\n",
    "    mnist_classifier = tf.estimator.Estimator(model_fn=deep_model_fn, params=model_params, model_dir=model_dir)\n",
    "    \n",
    "    ## 訓練模型\n",
    "    if mode == \"train\":\n",
    "        train_input_fn = tf.estimator.inputs.numpy_input_fn(\n",
    "                        x={\"x\": train_data},\n",
    "                        y=train_labels,\n",
    "                        batch_size=100,\n",
    "                        num_epochs=10,\n",
    "                        shuffle=True)\n",
    "        mnist_classifier.train(input_fn=train_input_fn)\n",
    "   \n",
    "    ## 預測模型\n",
    "    elif mode == \"predict\":\n",
    "        predict_input_fn = tf.estimator.inputs.numpy_input_fn(\n",
    "                        x={\"x\": eval_data},\n",
    "                        num_epochs=1,\n",
    "                        shuffle=False)\n",
    "        preds = mnist_classifier.predict(input_fn=predict_input_fn)\n",
    "        return [p for p in preds], eval_labels\n",
    "    \n",
    "    ## 評估模型 \n",
    "    elif mode == \"eval\":\n",
    "        eval_input_fn = tf.estimator.inputs.numpy_input_fn(\n",
    "                        x={\"x\": eval_data},\n",
    "                        y=eval_labels,\n",
    "                        num_epochs=1,\n",
    "                        shuffle=False)\n",
    "        eval_results = mnist_classifier.evaluate(input_fn=eval_input_fn)\n",
    "        print(eval_results)"
   ]
  },
  {
   "cell_type": "markdown",
   "metadata": {},
   "source": [
    "<h3>架構神經層"
   ]
  },
  {
   "cell_type": "code",
   "execution_count": 30,
   "metadata": {},
   "outputs": [],
   "source": [
    "layers = [{\"n_nodes\": 1024, \"activation\": tf.nn.relu, \"dropout\": None},\n",
    "          {\"n_nodes\": 512, \"activation\": tf.nn.relu, \"dropout\": 0.4},\n",
    "          {\"n_nodes\": 256, \"activation\": tf.nn.relu, \"dropout\": None},\n",
    "          {\"n_nodes\": 128, \"activation\": tf.nn.relu, \"dropout\": 0.4},\n",
    "          {\"n_nodes\": 10, \"activation\": None, \"dropout\": None} ]"
   ]
  },
  {
   "cell_type": "markdown",
   "metadata": {},
   "source": [
    "<h3>模型參數"
   ]
  },
  {
   "cell_type": "code",
   "execution_count": 31,
   "metadata": {},
   "outputs": [],
   "source": [
    "model_params = {\"learning_rate\": 0.01,\n",
    "                \"layers\": layers}"
   ]
  },
  {
   "cell_type": "markdown",
   "metadata": {},
   "source": [
    "<h3>執行"
   ]
  },
  {
   "cell_type": "code",
   "execution_count": 32,
   "metadata": {
    "scrolled": true
   },
   "outputs": [
    {
     "name": "stdout",
     "output_type": "stream",
     "text": [
      "Extracting MNIST-data\\train-images-idx3-ubyte.gz\n",
      "Extracting MNIST-data\\train-labels-idx1-ubyte.gz\n",
      "Extracting MNIST-data\\t10k-images-idx3-ubyte.gz\n",
      "Extracting MNIST-data\\t10k-labels-idx1-ubyte.gz\n",
      "INFO:tensorflow:Using default config.\n",
      "INFO:tensorflow:Using config: {'_model_dir': '/tmp/mnist_deep_model', '_tf_random_seed': None, '_save_summary_steps': 100, '_save_checkpoints_steps': None, '_save_checkpoints_secs': 600, '_session_config': None, '_keep_checkpoint_max': 5, '_keep_checkpoint_every_n_hours': 10000, '_log_step_count_steps': 100, '_train_distribute': None, '_service': None, '_cluster_spec': <tensorflow.python.training.server_lib.ClusterSpec object at 0x000002021EF69780>, '_task_type': 'worker', '_task_id': 0, '_global_id_in_cluster': 0, '_master': '', '_evaluation_master': '', '_is_chief': True, '_num_ps_replicas': 0, '_num_worker_replicas': 1}\n",
      "INFO:tensorflow:Calling model_fn.\n",
      "['input_layer', 'layer0', 'layer1', 'dropout_l1', 'layer2', 'layer3', 'dropout_l3', 'logits']\n",
      "INFO:tensorflow:Done calling model_fn.\n",
      "INFO:tensorflow:Create CheckpointSaverHook.\n",
      "INFO:tensorflow:Graph was finalized.\n",
      "INFO:tensorflow:Running local_init_op.\n",
      "INFO:tensorflow:Done running local_init_op.\n",
      "INFO:tensorflow:Saving checkpoints for 1 into /tmp/mnist_deep_model\\model.ckpt.\n",
      "INFO:tensorflow:loss = 2.3240862, step = 1\n",
      "INFO:tensorflow:global_step/sec: 46.9416\n",
      "INFO:tensorflow:loss = 2.0315735, step = 101 (2.132 sec)\n",
      "INFO:tensorflow:global_step/sec: 44.7823\n",
      "INFO:tensorflow:loss = 1.5715225, step = 201 (2.233 sec)\n",
      "INFO:tensorflow:global_step/sec: 45.2878\n",
      "INFO:tensorflow:loss = 1.0745747, step = 301 (2.211 sec)\n",
      "INFO:tensorflow:global_step/sec: 46.9637\n",
      "INFO:tensorflow:loss = 0.92200696, step = 401 (2.125 sec)\n",
      "INFO:tensorflow:global_step/sec: 47.9747\n",
      "INFO:tensorflow:loss = 0.60907406, step = 501 (2.086 sec)\n",
      "INFO:tensorflow:global_step/sec: 49.0066\n",
      "INFO:tensorflow:loss = 0.7771595, step = 601 (2.040 sec)\n",
      "INFO:tensorflow:global_step/sec: 47.7918\n",
      "INFO:tensorflow:loss = 0.68155515, step = 701 (2.092 sec)\n",
      "INFO:tensorflow:global_step/sec: 49.2713\n",
      "INFO:tensorflow:loss = 0.6517028, step = 801 (2.031 sec)\n",
      "INFO:tensorflow:global_step/sec: 46.6578\n",
      "INFO:tensorflow:loss = 0.5435991, step = 901 (2.142 sec)\n",
      "INFO:tensorflow:global_step/sec: 47.2513\n",
      "INFO:tensorflow:loss = 0.44346228, step = 1001 (2.118 sec)\n",
      "INFO:tensorflow:global_step/sec: 47.7464\n",
      "INFO:tensorflow:loss = 0.6670074, step = 1101 (2.092 sec)\n",
      "INFO:tensorflow:global_step/sec: 48.7919\n",
      "INFO:tensorflow:loss = 0.3838253, step = 1201 (2.050 sec)\n",
      "INFO:tensorflow:global_step/sec: 49.1989\n",
      "INFO:tensorflow:loss = 0.31366512, step = 1301 (2.033 sec)\n",
      "INFO:tensorflow:global_step/sec: 46.2701\n",
      "INFO:tensorflow:loss = 0.44323665, step = 1401 (2.160 sec)\n",
      "INFO:tensorflow:global_step/sec: 48.2519\n",
      "INFO:tensorflow:loss = 0.5533909, step = 1501 (2.072 sec)\n",
      "INFO:tensorflow:global_step/sec: 44.7023\n",
      "INFO:tensorflow:loss = 0.19603954, step = 1601 (2.237 sec)\n",
      "INFO:tensorflow:global_step/sec: 46.2062\n",
      "INFO:tensorflow:loss = 0.49917784, step = 1701 (2.165 sec)\n",
      "INFO:tensorflow:global_step/sec: 44.3661\n",
      "INFO:tensorflow:loss = 0.43302083, step = 1801 (2.254 sec)\n",
      "INFO:tensorflow:global_step/sec: 47.5652\n",
      "INFO:tensorflow:loss = 0.41436833, step = 1901 (2.102 sec)\n",
      "INFO:tensorflow:global_step/sec: 49.4659\n",
      "INFO:tensorflow:loss = 0.3430841, step = 2001 (2.022 sec)\n",
      "INFO:tensorflow:global_step/sec: 49.1506\n",
      "INFO:tensorflow:loss = 0.3898543, step = 2101 (2.035 sec)\n",
      "INFO:tensorflow:global_step/sec: 48.6262\n",
      "INFO:tensorflow:loss = 0.32515448, step = 2201 (2.057 sec)\n",
      "INFO:tensorflow:global_step/sec: 49.1748\n",
      "INFO:tensorflow:loss = 0.30027232, step = 2301 (2.034 sec)\n",
      "INFO:tensorflow:global_step/sec: 46.5277\n",
      "INFO:tensorflow:loss = 0.2980231, step = 2401 (2.151 sec)\n",
      "INFO:tensorflow:global_step/sec: 46.4201\n",
      "INFO:tensorflow:loss = 0.36385208, step = 2501 (2.153 sec)\n",
      "INFO:tensorflow:global_step/sec: 46.1424\n",
      "INFO:tensorflow:loss = 0.360087, step = 2601 (2.166 sec)\n",
      "INFO:tensorflow:global_step/sec: 47.8147\n",
      "INFO:tensorflow:loss = 0.06800645, step = 2701 (2.091 sec)\n",
      "INFO:tensorflow:global_step/sec: 48.1129\n",
      "INFO:tensorflow:loss = 0.21971703, step = 2801 (2.077 sec)\n",
      "INFO:tensorflow:global_step/sec: 46.7665\n",
      "INFO:tensorflow:loss = 0.20370406, step = 2901 (2.139 sec)\n",
      "INFO:tensorflow:global_step/sec: 45.8051\n",
      "INFO:tensorflow:loss = 0.35525495, step = 3001 (2.183 sec)\n",
      "INFO:tensorflow:global_step/sec: 47.2959\n",
      "INFO:tensorflow:loss = 0.30906355, step = 3101 (2.113 sec)\n",
      "INFO:tensorflow:global_step/sec: 48.0899\n",
      "INFO:tensorflow:loss = 0.24273483, step = 3201 (2.079 sec)\n",
      "INFO:tensorflow:global_step/sec: 44.4447\n",
      "INFO:tensorflow:loss = 0.24023303, step = 3301 (2.251 sec)\n",
      "INFO:tensorflow:global_step/sec: 44.9629\n",
      "INFO:tensorflow:loss = 0.23849528, step = 3401 (2.223 sec)\n",
      "INFO:tensorflow:global_step/sec: 44.983\n",
      "INFO:tensorflow:loss = 0.37077847, step = 3501 (2.224 sec)\n",
      "INFO:tensorflow:global_step/sec: 44.1707\n",
      "INFO:tensorflow:loss = 0.15406814, step = 3601 (2.266 sec)\n",
      "INFO:tensorflow:global_step/sec: 45.6591\n",
      "INFO:tensorflow:loss = 0.16958943, step = 3701 (2.188 sec)\n",
      "INFO:tensorflow:global_step/sec: 42.7762\n",
      "INFO:tensorflow:loss = 0.13665095, step = 3801 (2.337 sec)\n",
      "INFO:tensorflow:global_step/sec: 44.5831\n",
      "INFO:tensorflow:loss = 0.25649673, step = 3901 (2.244 sec)\n",
      "INFO:tensorflow:global_step/sec: 49.1748\n",
      "INFO:tensorflow:loss = 0.28104153, step = 4001 (2.034 sec)\n",
      "INFO:tensorflow:global_step/sec: 43.9191\n",
      "INFO:tensorflow:loss = 0.25517404, step = 4101 (2.276 sec)\n",
      "INFO:tensorflow:global_step/sec: 49.4171\n",
      "INFO:tensorflow:loss = 0.2320365, step = 4201 (2.025 sec)\n",
      "INFO:tensorflow:global_step/sec: 47.5877\n",
      "INFO:tensorflow:loss = 0.24694301, step = 4301 (2.101 sec)\n",
      "INFO:tensorflow:global_step/sec: 46.5926\n",
      "INFO:tensorflow:loss = 0.13569623, step = 4401 (2.145 sec)\n",
      "INFO:tensorflow:global_step/sec: 48.2055\n",
      "INFO:tensorflow:loss = 0.16308056, step = 4501 (2.075 sec)\n",
      "INFO:tensorflow:global_step/sec: 45.0437\n",
      "INFO:tensorflow:loss = 0.23397312, step = 4601 (2.219 sec)\n",
      "INFO:tensorflow:global_step/sec: 45.4521\n",
      "INFO:tensorflow:loss = 0.2797315, step = 4701 (2.201 sec)\n",
      "INFO:tensorflow:global_step/sec: 47.0518\n",
      "INFO:tensorflow:loss = 0.19756994, step = 4801 (2.124 sec)\n",
      "INFO:tensorflow:global_step/sec: 48.6498\n",
      "INFO:tensorflow:loss = 0.18289366, step = 4901 (2.056 sec)\n",
      "INFO:tensorflow:global_step/sec: 48.0898\n",
      "INFO:tensorflow:loss = 0.20702878, step = 5001 (2.080 sec)\n",
      "INFO:tensorflow:global_step/sec: 49.5392\n",
      "INFO:tensorflow:loss = 0.13114461, step = 5101 (2.018 sec)\n",
      "INFO:tensorflow:global_step/sec: 49.1507\n",
      "INFO:tensorflow:loss = 0.14788175, step = 5201 (2.037 sec)\n",
      "INFO:tensorflow:global_step/sec: 48.8394\n",
      "INFO:tensorflow:loss = 0.19386846, step = 5301 (2.046 sec)\n",
      "INFO:tensorflow:global_step/sec: 48.8157\n",
      "INFO:tensorflow:loss = 0.110475786, step = 5401 (2.050 sec)\n",
      "INFO:tensorflow:Saving checkpoints for 5500 into /tmp/mnist_deep_model\\model.ckpt.\n",
      "INFO:tensorflow:Loss for final step: 0.14949493.\n"
     ]
    }
   ],
   "source": [
    "main(model_params=model_params, mode=\"train\")"
   ]
  },
  {
   "cell_type": "markdown",
   "metadata": {},
   "source": [
    "<h3>評估預測"
   ]
  },
  {
   "cell_type": "code",
   "execution_count": 33,
   "metadata": {},
   "outputs": [],
   "source": [
    "from sklearn.metrics import classification_report as crep, accuracy_score as acc"
   ]
  },
  {
   "cell_type": "code",
   "execution_count": 34,
   "metadata": {},
   "outputs": [
    {
     "name": "stdout",
     "output_type": "stream",
     "text": [
      "Extracting MNIST-data\\train-images-idx3-ubyte.gz\n",
      "Extracting MNIST-data\\train-labels-idx1-ubyte.gz\n",
      "Extracting MNIST-data\\t10k-images-idx3-ubyte.gz\n",
      "Extracting MNIST-data\\t10k-labels-idx1-ubyte.gz\n",
      "INFO:tensorflow:Using default config.\n",
      "INFO:tensorflow:Using config: {'_model_dir': '/tmp/mnist_deep_model', '_tf_random_seed': None, '_save_summary_steps': 100, '_save_checkpoints_steps': None, '_save_checkpoints_secs': 600, '_session_config': None, '_keep_checkpoint_max': 5, '_keep_checkpoint_every_n_hours': 10000, '_log_step_count_steps': 100, '_train_distribute': None, '_service': None, '_cluster_spec': <tensorflow.python.training.server_lib.ClusterSpec object at 0x0000020254C05780>, '_task_type': 'worker', '_task_id': 0, '_global_id_in_cluster': 0, '_master': '', '_evaluation_master': '', '_is_chief': True, '_num_ps_replicas': 0, '_num_worker_replicas': 1}\n",
      "INFO:tensorflow:Calling model_fn.\n",
      "['input_layer', 'layer0', 'layer1', 'dropout_l1', 'layer2', 'layer3', 'dropout_l3', 'logits']\n",
      "INFO:tensorflow:Done calling model_fn.\n",
      "INFO:tensorflow:Graph was finalized.\n",
      "INFO:tensorflow:Restoring parameters from /tmp/mnist_deep_model\\model.ckpt-5500\n",
      "INFO:tensorflow:Running local_init_op.\n",
      "INFO:tensorflow:Done running local_init_op.\n"
     ]
    }
   ],
   "source": [
    "preds = main(model_params, mode=\"predict\")"
   ]
  },
  {
   "cell_type": "code",
   "execution_count": 35,
   "metadata": {},
   "outputs": [],
   "source": [
    "ypred = [c[\"classes\"] for c in preds[0]]\n",
    "ytrue = preds[1]"
   ]
  },
  {
   "cell_type": "code",
   "execution_count": 36,
   "metadata": {},
   "outputs": [
    {
     "name": "stdout",
     "output_type": "stream",
     "text": [
      "acc : 0.9591\n"
     ]
    }
   ],
   "source": [
    "print(\"acc :\", acc(ytrue, ypred))"
   ]
  },
  {
   "cell_type": "code",
   "execution_count": null,
   "metadata": {},
   "outputs": [],
   "source": []
  }
 ],
 "metadata": {
  "kernelspec": {
   "display_name": "Python 3",
   "language": "python",
   "name": "python3"
  },
  "language_info": {
   "codemirror_mode": {
    "name": "ipython",
    "version": 3
   },
   "file_extension": ".py",
   "mimetype": "text/x-python",
   "name": "python",
   "nbconvert_exporter": "python",
   "pygments_lexer": "ipython3",
   "version": "3.6.4"
  }
 },
 "nbformat": 4,
 "nbformat_minor": 1
}
